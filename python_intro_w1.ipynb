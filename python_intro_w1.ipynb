{
 "cells": [
  {
   "cell_type": "code",
   "execution_count": 1,
   "id": "1fdfeca6",
   "metadata": {},
   "outputs": [
    {
     "name": "stdout",
     "output_type": "stream",
     "text": [
      "29\n"
     ]
    }
   ],
   "source": [
    "var= 11\n",
    "var2=29\n",
    "day=\"persembe\"\n",
    "print(var2)"
   ]
  },
  {
   "cell_type": "code",
   "execution_count": 23,
   "id": "90f87d6a",
   "metadata": {},
   "outputs": [
    {
     "data": {
      "text/plain": [
       "list"
      ]
     },
     "execution_count": 23,
     "metadata": {},
     "output_type": "execute_result"
    }
   ],
   "source": [
    "var1= 11\n",
    "var2= 29\n",
    "var3= 79\n",
    "\n",
    "list_int= [11,29,79,2000]\n",
    "type(list_int)"
   ]
  },
  {
   "cell_type": "code",
   "execution_count": 4,
   "id": "95b7fe92",
   "metadata": {},
   "outputs": [
    {
     "data": {
      "text/plain": [
       "11"
      ]
     },
     "execution_count": 4,
     "metadata": {},
     "output_type": "execute_result"
    }
   ],
   "source": [
    "list_int[0]"
   ]
  },
  {
   "cell_type": "code",
   "execution_count": 5,
   "id": "0bdb15fc",
   "metadata": {},
   "outputs": [
    {
     "data": {
      "text/plain": [
       "29"
      ]
     },
     "execution_count": 5,
     "metadata": {},
     "output_type": "execute_result"
    }
   ],
   "source": [
    "list_int[1]"
   ]
  },
  {
   "cell_type": "code",
   "execution_count": 6,
   "id": "1d5ec085",
   "metadata": {},
   "outputs": [
    {
     "data": {
      "text/plain": [
       "[11]"
      ]
     },
     "execution_count": 6,
     "metadata": {},
     "output_type": "execute_result"
    }
   ],
   "source": [
    "list_int[0:1]"
   ]
  },
  {
   "cell_type": "code",
   "execution_count": 7,
   "id": "d1e9b55c",
   "metadata": {},
   "outputs": [
    {
     "data": {
      "text/plain": [
       "[11, 29]"
      ]
     },
     "execution_count": 7,
     "metadata": {},
     "output_type": "execute_result"
    }
   ],
   "source": [
    "list_int[0:2]"
   ]
  },
  {
   "cell_type": "code",
   "execution_count": 8,
   "id": "95ab8f17",
   "metadata": {},
   "outputs": [
    {
     "name": "stdout",
     "output_type": "stream",
     "text": [
      "[11, 29, 79, 2000]\n"
     ]
    }
   ],
   "source": [
    "list_int.append(2000)\n",
    "print(list_int)"
   ]
  },
  {
   "cell_type": "code",
   "execution_count": 9,
   "id": "d1197b76",
   "metadata": {},
   "outputs": [
    {
     "name": "stdout",
     "output_type": "stream",
     "text": [
      "[11, 29, 79]\n"
     ]
    }
   ],
   "source": [
    "list_int.remove(2000)\n",
    "print(list_int)"
   ]
  },
  {
   "cell_type": "code",
   "execution_count": 10,
   "id": "e17eb7e5",
   "metadata": {},
   "outputs": [
    {
     "name": "stdout",
     "output_type": "stream",
     "text": [
      "[79, 29, 11]\n"
     ]
    }
   ],
   "source": [
    "list_int.reverse()\n",
    "print(list_int)"
   ]
  },
  {
   "cell_type": "code",
   "execution_count": 24,
   "id": "ddae138f",
   "metadata": {},
   "outputs": [
    {
     "name": "stdout",
     "output_type": "stream",
     "text": [
      "[11, 29, 79, 2000]\n"
     ]
    }
   ],
   "source": [
    "list_int.sort()\n",
    "print(list_int)"
   ]
  },
  {
   "cell_type": "code",
   "execution_count": 25,
   "id": "c536041e",
   "metadata": {},
   "outputs": [
    {
     "name": "stdout",
     "output_type": "stream",
     "text": [
      "1\n",
      "2\n",
      "3\n",
      "4\n",
      "5\n",
      "6\n",
      "7\n",
      "8\n",
      "9\n",
      "10\n",
      "11\n",
      "12\n",
      "13\n",
      "14\n",
      "15\n"
     ]
    }
   ],
   "source": [
    "for each in range (1,16):\n",
    "    print(each)"
   ]
  },
  {
   "cell_type": "code",
   "execution_count": 26,
   "id": "7fecb4b9",
   "metadata": {},
   "outputs": [
    {
     "name": "stdout",
     "output_type": "stream",
     "text": [
      "2000\n"
     ]
    }
   ],
   "source": [
    "minimum = 14\n",
    "for each in(list_int):\n",
    "    if(each>minimum):\n",
    "        minimum=each\n",
    "    else :\n",
    "        continue\n",
    "print(minimum)"
   ]
  },
  {
   "cell_type": "code",
   "execution_count": 32,
   "id": "7b2d3b87",
   "metadata": {},
   "outputs": [
    {
     "name": "stdout",
     "output_type": "stream",
     "text": [
      "0\n",
      "1\n",
      "2\n",
      "3\n",
      "4\n"
     ]
    }
   ],
   "source": [
    "i = 0\n",
    "while(i<5):\n",
    "    print(i)\n",
    "    \n",
    "    i = i+1"
   ]
  },
  {
   "cell_type": "code",
   "execution_count": 33,
   "id": "d241eba8",
   "metadata": {},
   "outputs": [
    {
     "data": {
      "text/plain": [
       "9.0"
      ]
     },
     "execution_count": 33,
     "metadata": {},
     "output_type": "execute_result"
    }
   ],
   "source": [
    "def ucgen_alani(a,h=6):\n",
    "    output = a*h/2\n",
    "    return output\n",
    "\n",
    "ucgen_alani(3)"
   ]
  },
  {
   "cell_type": "code",
   "execution_count": 36,
   "id": "71823c68",
   "metadata": {},
   "outputs": [
    {
     "name": "stdout",
     "output_type": "stream",
     "text": [
      "27\n"
     ]
    }
   ],
   "source": [
    "def calculate(x):\n",
    "    output = x*x*x\n",
    "    return output\n",
    "\n",
    "result = calculate(3)\n",
    "print(result)\n"
   ]
  },
  {
   "cell_type": "code",
   "execution_count": 37,
   "id": "8a16d232",
   "metadata": {},
   "outputs": [
    {
     "name": "stdout",
     "output_type": "stream",
     "text": [
      "{'Umut': 23, 'Belo': 22}\n"
     ]
    }
   ],
   "source": [
    "dictionary = {\"Umut\":23, \"Belo\":22,}\n",
    "print (dictionary)\n"
   ]
  },
  {
   "cell_type": "code",
   "execution_count": 38,
   "id": "425110a5",
   "metadata": {},
   "outputs": [
    {
     "data": {
      "text/plain": [
       "dict"
      ]
     },
     "execution_count": 38,
     "metadata": {},
     "output_type": "execute_result"
    }
   ],
   "source": [
    " type(dictionary)"
   ]
  },
  {
   "cell_type": "code",
   "execution_count": 39,
   "id": "85f8a148",
   "metadata": {},
   "outputs": [
    {
     "data": {
      "text/plain": [
       "dict_keys(['Umut', 'Belo'])"
      ]
     },
     "execution_count": 39,
     "metadata": {},
     "output_type": "execute_result"
    }
   ],
   "source": [
    "dictionary.keys()\n"
   ]
  },
  {
   "cell_type": "code",
   "execution_count": 40,
   "id": "8aa8f88b",
   "metadata": {},
   "outputs": [
    {
     "data": {
      "text/plain": [
       "dict_values([23, 22])"
      ]
     },
     "execution_count": 40,
     "metadata": {},
     "output_type": "execute_result"
    }
   ],
   "source": [
    "dictionary.values()"
   ]
  },
  {
   "cell_type": "code",
   "execution_count": 43,
   "id": "f39fc79a",
   "metadata": {},
   "outputs": [
    {
     "name": "stdout",
     "output_type": "stream",
     "text": [
      "Yes there is Belo in keys.\n"
     ]
    }
   ],
   "source": [
    "keys = dictionary.keys()\n",
    "if \"Belo\" in keys:\n",
    "    print(\"Yes there is Belo in keys.\")\n",
    "else:\n",
    "    print(\"Unfortunately:/\")"
   ]
  },
  {
   "cell_type": "code",
   "execution_count": null,
   "id": "0fd92873",
   "metadata": {},
   "outputs": [],
   "source": []
  }
 ],
 "metadata": {
  "kernelspec": {
   "display_name": "Python 3 (ipykernel)",
   "language": "python",
   "name": "python3"
  },
  "language_info": {
   "codemirror_mode": {
    "name": "ipython",
    "version": 3
   },
   "file_extension": ".py",
   "mimetype": "text/x-python",
   "name": "python",
   "nbconvert_exporter": "python",
   "pygments_lexer": "ipython3",
   "version": "3.9.13"
  }
 },
 "nbformat": 4,
 "nbformat_minor": 5
}
